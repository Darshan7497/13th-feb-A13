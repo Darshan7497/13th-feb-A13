{
 "cells": [
  {
   "cell_type": "markdown",
   "id": "40454ebb-db1c-4ea8-9992-7dd237409eed",
   "metadata": {},
   "source": [
    "Q1. Explain why we have to use the Exception class while creating a Custom Exception.\n",
    "Note: Here Exception class refers to the base class for all the exceptions."
   ]
  },
  {
   "cell_type": "markdown",
   "id": "cef4c214-e7fd-45ee-aeab-f2bc820095bf",
   "metadata": {},
   "source": [
    " Here Exception class refers to the base class for all the exceptions.\n",
    "\n",
    "By using the Exception class as the base class for custom exceptions, the custom exception can be easily integrated into existing exception handling code, and it can be caught and handled in a similar way to other standard exceptions. Additionally, using the Exception class helps to ensure that the custom exception adheres to the standard conventions and practices for exception handling, making the code more maintainable and easier to understand."
   ]
  },
  {
   "cell_type": "markdown",
   "id": "271a1ee9-43a8-44d0-8d29-1ae9bdbeec8e",
   "metadata": {},
   "source": [
    "Q2. Write a python program to print Python Exception Hierarchy."
   ]
  },
  {
   "cell_type": "code",
   "execution_count": 1,
   "id": "5daac128-53b1-40eb-a4c4-2c867e7072f0",
   "metadata": {},
   "outputs": [
    {
     "name": "stdout",
     "output_type": "stream",
     "text": [
      "This is my custom exception!\n"
     ]
    }
   ],
   "source": [
    "class MyCustomException(Exception):\n",
    "    pass\n",
    "\n",
    "try:\n",
    "    raise MyCustomException(\"This is my custom exception!\")\n",
    "except MyCustomException as e:\n",
    "    print(e)\n"
   ]
  },
  {
   "cell_type": "markdown",
   "id": "83c8cba2-af97-436d-8b84-95194075da2e",
   "metadata": {},
   "source": [
    "Q3. What errors are defined in the ArithmeticError class? Explain any two with an example."
   ]
  },
  {
   "cell_type": "markdown",
   "id": "7ec6febc-6d67-4f16-b03c-ace93843ee89",
   "metadata": {},
   "source": [
    "The ArithmeticError class in Python is a base class for arithmetic-related exceptions. It is inherited by other exception classes like ZeroDivisionError, OverflowError, and FloatingPointError. Some errors defined in the ArithmeticError class are:\n",
    "\n",
    "1.ZeroDivisionError: This error occurs when the second operand of a division or modulo operation is zero."
   ]
  },
  {
   "cell_type": "code",
   "execution_count": 2,
   "id": "54420e29-adbf-40f8-a63e-ac08ae579a1c",
   "metadata": {},
   "outputs": [
    {
     "name": "stdout",
     "output_type": "stream",
     "text": [
      "division by zero\n"
     ]
    }
   ],
   "source": [
    "try :     \n",
    "    a = 10/0\n",
    "except ZeroDivisionError as e :\n",
    "    print(e)"
   ]
  },
  {
   "cell_type": "markdown",
   "id": "1709b8e6-8b03-426e-83f7-9b2362b6eba2",
   "metadata": {},
   "source": [
    "## overflow error"
   ]
  },
  {
   "cell_type": "code",
   "execution_count": 3,
   "id": "7eef2987-aedd-4ee5-aa79-0e4934ea4977",
   "metadata": {},
   "outputs": [
    {
     "name": "stdout",
     "output_type": "stream",
     "text": [
      "(34, 'Numerical result out of range'), <class 'OverflowError'>\n"
     ]
    }
   ],
   "source": [
    "j = 5.0\n",
    "\n",
    "try:\n",
    "    for i in range(1, 1000):\n",
    "        j = j**i\n",
    "except ArithmeticError as e:\n",
    "    print(f\"{e}, {e.__class__}\")"
   ]
  },
  {
   "cell_type": "markdown",
   "id": "df435bf5-9615-44fd-89d3-fe337170d5e7",
   "metadata": {},
   "source": [
    "Q4. Why LookupError class is used? Explain with an example KeyError and IndexError."
   ]
  },
  {
   "cell_type": "markdown",
   "id": "b4b0b03e-fad8-454b-83be-a98e51fe305c",
   "metadata": {},
   "source": [
    "The LookupError is a base class for all the exceptions that are related to lookup operations. It means when an object is not found in a collection, the lookup operation raises an exception that is a subclass of LookupError. The two most common subclasses of LookupError are KeyError and IndexError.\n",
    "\n",
    "KeyError is raised when a dictionary key is not found. For example:"
   ]
  },
  {
   "cell_type": "code",
   "execution_count": 6,
   "id": "f08f0976-12c4-4ccd-aa1c-ab12604508c6",
   "metadata": {},
   "outputs": [
    {
     "name": "stdout",
     "output_type": "stream",
     "text": [
      "KeyError:e\n"
     ]
    }
   ],
   "source": [
    "my_dict = {'a': 1, 'b': 2, 'c': 3}\n",
    "try:\n",
    "    value = my_dict['d']\n",
    "except KeyError as e:\n",
    "    print(\"KeyError:e\")\n"
   ]
  },
  {
   "cell_type": "markdown",
   "id": "218b4f43-b165-4de3-a5bc-b01d1f7dd453",
   "metadata": {},
   "source": [
    "IndexError is raised when an index in a sequence (like a list, tuple, or string) is out of range. For example:"
   ]
  },
  {
   "cell_type": "code",
   "execution_count": 7,
   "id": "2f2dc0ab-9b68-4b8c-a7e5-e376b8e1408d",
   "metadata": {},
   "outputs": [
    {
     "name": "stdout",
     "output_type": "stream",
     "text": [
      "IndexError: list index out of range\n"
     ]
    }
   ],
   "source": [
    "my_list = [1, 2, 3]\n",
    "try:\n",
    "    value = my_list[3]\n",
    "except IndexError as e:\n",
    "    print(f\"IndexError: {e}\")\n"
   ]
  },
  {
   "cell_type": "markdown",
   "id": "3e633032-27d9-4d55-9c68-8515a1c9dfec",
   "metadata": {},
   "source": [
    "Q5. Explain ImportError. What is ModuleNotFoundError?"
   ]
  },
  {
   "cell_type": "markdown",
   "id": "1f736748-328a-4783-b55e-b708f6a367d1",
   "metadata": {},
   "source": [
    "In Python, ImportError is an exception that occurs when there is an issue with importing a module. This can occur due to a variety of reasons, such as the module not being installed or not being found in the specified path.\n",
    "\n",
    "\n",
    "ModuleNotFoundError is a subclass of ImportError that is raised when the specified module cannot be found. "
   ]
  },
  {
   "cell_type": "code",
   "execution_count": 8,
   "id": "09817ef4-740d-4235-bfcb-12ff07c72132",
   "metadata": {},
   "outputs": [
    {
     "ename": "ModuleNotFoundError",
     "evalue": "No module named 'missing_module'",
     "output_type": "error",
     "traceback": [
      "\u001b[0;31m---------------------------------------------------------------------------\u001b[0m",
      "\u001b[0;31mModuleNotFoundError\u001b[0m                       Traceback (most recent call last)",
      "Cell \u001b[0;32mIn[8], line 1\u001b[0m\n\u001b[0;32m----> 1\u001b[0m \u001b[38;5;28;01mimport\u001b[39;00m \u001b[38;5;21;01mmissing_module\u001b[39;00m\n\u001b[1;32m      3\u001b[0m \u001b[38;5;28mprint\u001b[39m(\u001b[38;5;124m\"\u001b[39m\u001b[38;5;124mThis code won\u001b[39m\u001b[38;5;124m'\u001b[39m\u001b[38;5;124mt execute\u001b[39m\u001b[38;5;124m\"\u001b[39m)\n",
      "\u001b[0;31mModuleNotFoundError\u001b[0m: No module named 'missing_module'"
     ]
    }
   ],
   "source": [
    "\n",
    "\n",
    "import missing_module\n",
    "\n",
    "print(\"This code won't execute\")\n"
   ]
  },
  {
   "cell_type": "markdown",
   "id": "66012546-520d-44e7-97e3-f62b38942c4c",
   "metadata": {},
   "source": [
    "Q6. List down some best practices for exception handling in python."
   ]
  },
  {
   "cell_type": "markdown",
   "id": "d3783b35-843e-4ffe-b733-6e68a603a486",
   "metadata": {},
   "source": [
    "1.Be specific: Catch specific exceptions instead of catching all exceptions using the except: statement. This helps in debugging and identifying the source of the error.\n",
    "\n",
    "2.Use finally block: Use the finally block to clean up any resources that were used during the try block. For example, if you opened a file, you should close it in the finally block.\n",
    "\n",
    "3.Use descriptive error messages: Use descriptive error messages in your exceptions, so that you or other developers can easily understand what went wrong.\n",
    "\n",
    "4.Use raise to propagate exceptions: If you catch an exception, but can't handle it properly, use the raise statement to propagate the exception to the caller.\n",
    "\n",
    "5.Don't use exceptions for flow control: Exceptions should not be used for flow control, such as to break out of loops. This can make the code harder to read and debug."
   ]
  },
  {
   "cell_type": "code",
   "execution_count": null,
   "id": "55d15fef-43b5-41ef-a9ba-1e33254435f2",
   "metadata": {},
   "outputs": [],
   "source": []
  }
 ],
 "metadata": {
  "kernelspec": {
   "display_name": "Python 3 (ipykernel)",
   "language": "python",
   "name": "python3"
  },
  "language_info": {
   "codemirror_mode": {
    "name": "ipython",
    "version": 3
   },
   "file_extension": ".py",
   "mimetype": "text/x-python",
   "name": "python",
   "nbconvert_exporter": "python",
   "pygments_lexer": "ipython3",
   "version": "3.10.8"
  }
 },
 "nbformat": 4,
 "nbformat_minor": 5
}
